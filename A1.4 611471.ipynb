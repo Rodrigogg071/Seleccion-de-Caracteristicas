{
 "cells": [
  {
   "cell_type": "markdown",
   "id": "e6c9ba12-07ae-4392-9494-a92b3c899436",
   "metadata": {},
   "source": [
    "En esta actividad se utulizarán métodos de selección de características: selección hacia adelante y eliminación hacia atrás. \n",
    "\n",
    "Trabajaremos con los datos del Wine Quality Data Set, generados por Paulo Cortez y un grupo de investigación de la University of Minho, en Portugal, disponibles en [UCI Machine Learning Repository](https://archive.ics.uci.edu/dataset/186/wine+quality). \n",
    "\n",
    "Los investigadores utilizaron estos datos para tratar de modelar las preferencias de consumo de vino, generando un índice de calidad. Ahora, trataremos de mejorar la precisión del modelo a través de metodologías de selección de características. "
   ]
  },
  {
   "cell_type": "markdown",
   "id": "6d4fbf6b-4a06-476e-bdc3-c30f9a4b31f1",
   "metadata": {},
   "source": [
    "Primero importaremos los datos"
   ]
  },
  {
   "cell_type": "code",
   "execution_count": 3,
   "id": "f6d8c564-14c5-4390-8a44-e715ce1f0681",
   "metadata": {},
   "outputs": [
    {
     "name": "stdout",
     "output_type": "stream",
     "text": [
      "(1599, 12)\n",
      "   acidezFija  acidezVolatil  acidoCitrico  azucarResidual  cloruros  \\\n",
      "0         7.4           0.70          0.00             1.9     0.076   \n",
      "1         7.8           0.88          0.00             2.6     0.098   \n",
      "2         7.8           0.76          0.04             2.3     0.092   \n",
      "3        11.2           0.28          0.56             1.9     0.075   \n",
      "4         7.4           0.70          0.00             1.9     0.076   \n",
      "\n",
      "   dioxidoAzufreLibre  dioxidoAzufreTotal  densidad    pH  sulfatos  alcohol  \\\n",
      "0                11.0                34.0    0.9978  3.51      0.56      9.4   \n",
      "1                25.0                67.0    0.9968  3.20      0.68      9.8   \n",
      "2                15.0                54.0    0.9970  3.26      0.65      9.8   \n",
      "3                17.0                60.0    0.9980  3.16      0.58      9.8   \n",
      "4                11.0                34.0    0.9978  3.51      0.56      9.4   \n",
      "\n",
      "   calidad  \n",
      "0        5  \n",
      "1        5  \n",
      "2        5  \n",
      "3        6  \n",
      "4        5  \n"
     ]
    }
   ],
   "source": [
    "import pandas as pd\n",
    "df = pd.read_csv(\"A1.4 Vino Tinto.csv\")\n",
    "print(df.shape)\n",
    "print(df.head(5))"
   ]
  },
  {
   "cell_type": "markdown",
   "id": "0106bc67-3eb1-4769-b938-2d1748a9f0a3",
   "metadata": {},
   "source": [
    "Ahora dividiremos nuestros datos en datos de entrenamiento y datos de prueba"
   ]
  },
  {
   "cell_type": "code",
   "execution_count": 7,
   "id": "adc8cd63-201c-4702-84f4-1c87e72e656a",
   "metadata": {},
   "outputs": [
    {
     "name": "stdout",
     "output_type": "stream",
     "text": [
      "(1279, 12)\n",
      "(320, 12)\n",
      "La cantidad de observaciones en las particiones son iguales a la cantidad original.\n"
     ]
    }
   ],
   "source": [
    "from sklearn.model_selection import train_test_split\n",
    "\n",
    "train, test = train_test_split(df, train_size = 0.8)\n",
    "\n",
    "print(train.shape)\n",
    "print(test.shape)\n",
    "if df.shape[0] == (train.shape[0] + test.shape[0]):\n",
    "    print(\"La cantidad de observaciones en las particiones son iguales a la cantidad original.\")\n"
   ]
  },
  {
   "cell_type": "markdown",
   "id": "e369f0e6-233b-4c35-8ec0-c1b3cf62331e",
   "metadata": {},
   "source": [
    "Ahora procederemos con los métodos de selección."
   ]
  },
  {
   "cell_type": "code",
   "execution_count": 55,
   "id": "4424f1b5-3740-4906-ae4b-648d038b2757",
   "metadata": {},
   "outputs": [
    {
     "name": "stdout",
     "output_type": "stream",
     "text": [
      "Variables seleccionadas: ('acidezVolatil', 'cloruros', 'dioxidoAzufreLibre', 'dioxidoAzufreTotal', 'pH', 'sulfatos', 'alcohol')\n",
      "0.3402364475745765 \n",
      "\n",
      "Variables seleccionadas: 1 ('alcohol',)\n",
      "Variables seleccionadas: 2 ('acidezVolatil', 'alcohol')\n",
      "Variables seleccionadas: 3 ('acidezVolatil', 'sulfatos', 'alcohol')\n",
      "Variables seleccionadas: 4 ('acidezVolatil', 'cloruros', 'sulfatos', 'alcohol')\n",
      "Variables seleccionadas: 5 ('acidezVolatil', 'cloruros', 'dioxidoAzufreTotal', 'sulfatos', 'alcohol')\n",
      "Variables seleccionadas: 6 ('acidezVolatil', 'cloruros', 'dioxidoAzufreTotal', 'pH', 'sulfatos', 'alcohol')\n",
      "Variables seleccionadas: 7 ('acidezVolatil', 'cloruros', 'dioxidoAzufreLibre', 'dioxidoAzufreTotal', 'pH', 'sulfatos', 'alcohol')\n",
      "Variables seleccionadas: 8 ('acidezVolatil', 'azucarResidual', 'cloruros', 'dioxidoAzufreLibre', 'dioxidoAzufreTotal', 'pH', 'sulfatos', 'alcohol')\n"
     ]
    }
   ],
   "source": [
    "from mlxtend.feature_selection import SequentialFeatureSelector\n",
    "from sklearn.linear_model import LinearRegression\n",
    "import numpy as np\n",
    "\n",
    "x_train = train.drop(columns=['calidad'])\n",
    "y_train = train['calidad']\n",
    "x_test  = test.drop(columns=['calidad'])\n",
    "y_test  = test['calidad']\n",
    "\n",
    "\n",
    "SFS = SequentialFeatureSelector(estimator = LinearRegression(), k_features = (2,8), forward = True, scoring = 'r2', cv = 10)\n",
    "SFS.fit(x_train,y_train)\n",
    "\n",
    "print(\"Variables seleccionadas:\",SFS.k_feature_names_)\n",
    "print(SFS.k_score_,\"\\n\")\n",
    "#print(\"\\n\",SFS.subsets_)\n",
    "\n",
    "for i in SFS.subsets_.items():\n",
    "    print(\"Variables seleccionadas:\",i[0],i[1]['feature_names'])\n"
   ]
  },
  {
   "cell_type": "markdown",
   "id": "1f959c95-a0b0-4497-b8a8-a80ca0ec4b63",
   "metadata": {},
   "source": [
    "Aquí podemos observar los resultados de la selección hacia adelante, mostrando qué variables parecen ser las de mayor relevancia a la hora de hacer el modelo"
   ]
  },
  {
   "cell_type": "code",
   "execution_count": 67,
   "id": "f067adbc-ac74-453b-a7d5-fff2b9d0e78e",
   "metadata": {},
   "outputs": [
    {
     "name": "stdout",
     "output_type": "stream",
     "text": [
      "R^2: 0.3457\n"
     ]
    }
   ],
   "source": [
    "from sklearn.metrics import r2_score\n",
    "columnas = list(SFS.k_feature_names_)\n",
    "lr_adelante = LinearRegression().fit(x_train[columnas], y_train)\n",
    "y_pred = lr_adelante.predict(x_test[columnas])\n",
    "\n",
    "r2_test = r2_score(y_test, y_pred)\n",
    "print(f\"R^2: {r2_test:.4f}\")\n",
    "# "
   ]
  },
  {
   "cell_type": "markdown",
   "id": "72a4c440-70f6-4ffc-8b2e-dc1106069a61",
   "metadata": {},
   "source": [
    "Aquí podemos ver ka capacidad de medición del modelo medida mediante R^2 con un valor de 0.3457. \n",
    "\n",
    "Ahora procederemos a aplicar el método de selección hacia atrás."
   ]
  },
  {
   "cell_type": "code",
   "execution_count": 62,
   "id": "e3eea69b-ff33-4406-ab75-663788086cfa",
   "metadata": {},
   "outputs": [
    {
     "name": "stdout",
     "output_type": "stream",
     "text": [
      "Variables seleccionadas: ('acidezVolatil', 'cloruros', 'dioxidoAzufreTotal', 'sulfatos', 'alcohol')\n",
      "0.3359861328870746 \n",
      "\n"
     ]
    }
   ],
   "source": [
    "x_train_seleccionadas = x_train[columnas]\n",
    "x_test_seleccionadas = x_test[columnas]\n",
    "\n",
    "SFS_atras = SequentialFeatureSelector(estimator = LinearRegression(), k_features = (2,5), forward = False, scoring = 'r2', cv = 10)\n",
    "SFS_atras.fit(x_train_seleccionadas,y_train)\n",
    "\n",
    "print(\"Variables seleccionadas:\",SFS_atras.k_feature_names_)\n",
    "print(SFS_atras.k_score_,\"\\n\")\n",
    "#print(\"\\n\",SFS.subsets_)\n"
   ]
  },
  {
   "cell_type": "markdown",
   "id": "3ebe0ec1-33c0-4166-a3d9-ef03883a7d59",
   "metadata": {},
   "source": [
    "Una vez obtenidas las variables seleccionadas después de aplicar el método de selección hacia atrás sobre los resultados de haber aplicado el método de selección hacia adelante, volveremos a calcular el R^2 para comparar la capacidad de medición de ambos modelos"
   ]
  },
  {
   "cell_type": "code",
   "execution_count": 69,
   "id": "866037d7-befe-46ec-bfdd-7234492175d5",
   "metadata": {},
   "outputs": [
    {
     "name": "stdout",
     "output_type": "stream",
     "text": [
      "R^2: 0.3352\n"
     ]
    }
   ],
   "source": [
    "columnas_atras = list(SFS_atras.k_feature_names_)\n",
    "lr_final = LinearRegression().fit(x_train_seleccionadas[columnas_atras], y_train)\n",
    "y_pred_atras = lr_final.predict(x_test_seleccionadas[columnas_atras])\n",
    "\n",
    "r2_test_atras = r2_score(y_test, y_pred_atras)\n",
    "Eprint(f\"R^2: {r2_test_atras:.4f}\")"
   ]
  },
  {
   "cell_type": "markdown",
   "id": "f102fe53-c1ff-47b0-b42c-8cca320efff4",
   "metadata": {},
   "source": [
    "Al observar y comparar ambos resultados obtenidos de R^2 para ambos modelos podemos notar lo siguiente:\n",
    "\n",
    "- El primer modelo obtenido tiene una R^2 de 0.3457 mientras que el segundo tiene una de 0.3352, habiendo una diferencia de 0.0105 en sus valores.\n",
    "- El primer modelo hace uso de 7 variables, mientras que el segundo hace uso de 5 variables.\n",
    "\n",
    "Debido a esto, considero que el requerir 2 variables menos a costa de un 0.0105 de capacidad de medición termina siendo una diferencia no tan significativa en este caso, por lo que si buscamos agilizar procesos a la hora de utilizar alguno de estos modelos, considero que el más adecuado sería el segundo modelo, haciendo uso de las variables de alcohol, acidéz volatil, sulfatos, cloruros y dióxido de azufre total, mientras que descarta el resto de variables seleccionadas anteriormente como azucares y nivel de pH."
   ]
  }
 ],
 "metadata": {
  "kernelspec": {
   "display_name": "Python [conda env:base] *",
   "language": "python",
   "name": "conda-base-py"
  },
  "language_info": {
   "codemirror_mode": {
    "name": "ipython",
    "version": 3
   },
   "file_extension": ".py",
   "mimetype": "text/x-python",
   "name": "python",
   "nbconvert_exporter": "python",
   "pygments_lexer": "ipython3",
   "version": "3.13.5"
  }
 },
 "nbformat": 4,
 "nbformat_minor": 5
}
